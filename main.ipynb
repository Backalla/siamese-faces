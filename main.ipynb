{
 "cells": [
  {
   "cell_type": "code",
   "execution_count": 6,
   "metadata": {},
   "outputs": [],
   "source": [
    "import os\n",
    "from backalla_utils.misc import recursive_ls\n",
    "import random\n",
    "\n",
    "data_path = \"./data/omniglot/\"\n",
    "all_images = recursive_ls(data_path,filter=\"*.png\")"
   ]
  },
  {
   "cell_type": "code",
   "execution_count": 7,
   "metadata": {},
   "outputs": [
    {
     "name": "stdout",
     "output_type": "stream",
     "text": [
      "32460\n"
     ]
    }
   ],
   "source": [
    "print(len(all_images))\n",
    "ext_freq = {}\n",
    "for image in all_images:\n",
    "    ext = image.split(\".\")[-1]\n",
    "    if ext in ext_freq:\n",
    "        ext_freq[ext]+=1\n",
    "    else:\n",
    "        ext_freq[ext]=1"
   ]
  },
  {
   "cell_type": "code",
   "execution_count": 11,
   "metadata": {},
   "outputs": [],
   "source": [
    "def get_label_from_path(path):\n",
    "    filename = os.path.basename(path)\n",
    "    name = filename[:4]\n",
    "    return name"
   ]
  },
  {
   "cell_type": "code",
   "execution_count": 13,
   "metadata": {},
   "outputs": [
    {
     "name": "stdout",
     "output_type": "stream",
     "text": [
      "1164\n",
      "1127\n",
      "1313\n",
      "1034\n",
      "1054\n",
      "1562\n",
      "0409\n",
      "1147\n",
      "0865\n",
      "1274\n",
      "1033\n",
      "1009\n",
      "0307\n",
      "0534\n",
      "1380\n",
      "0954\n",
      "0959\n",
      "1001\n",
      "1058\n",
      "0506\n"
     ]
    }
   ],
   "source": [
    "for image in random.sample(all_images,20):\n",
    "    print(get_label_from_path(image))"
   ]
  },
  {
   "cell_type": "code",
   "execution_count": 14,
   "metadata": {},
   "outputs": [
    {
     "name": "stdout",
     "output_type": "stream",
     "text": [
      "32460\n"
     ]
    }
   ],
   "source": [
    "print(len(all_images))\n",
    "\n",
    "\n",
    "\n",
    "name_path_dict = {}\n",
    "for image_path in all_images:\n",
    "    name = get_label_from_path(image_path)\n",
    "    if name in name_path_dict:\n",
    "        name_path_dict[name].append(image_path)\n",
    "    else:\n",
    "        name_path_dict[name] = [image_path]\n",
    "\n",
    "name_path_dict_multiple = {name:name_path_dict[name] for name in name_path_dict if len(name_path_dict[name])>1}\n",
    "name_data_dict = {}\n",
    "for name in name_path_dict_multiple:\n",
    "    paths_list = name_path_dict_multiple[name]\n",
    "    random.shuffle(paths_list)\n",
    "    train_paths = paths_list[:len(paths_list)//2]\n",
    "    valid_paths = paths_list[len(paths_list)//2:]\n",
    "    name_data_dict[name] = {\"train\":train_paths,\"valid\":valid_paths}"
   ]
  },
  {
   "cell_type": "code",
   "execution_count": 16,
   "metadata": {},
   "outputs": [
    {
     "data": {
      "text/plain": [
       "1623"
      ]
     },
     "execution_count": 16,
     "metadata": {},
     "output_type": "execute_result"
    }
   ],
   "source": [
    "len(name_data_dict)"
   ]
  },
  {
   "cell_type": "code",
   "execution_count": 19,
   "metadata": {},
   "outputs": [
    {
     "name": "stdout",
     "output_type": "stream",
     "text": [
      "['./data/omniglot/images_background/Armenian/character01/0027_15.png', './data/omniglot/images_background/Armenian/character01/0027_01.png', './data/omniglot/images_background/Armenian/character01/0027_16.png', './data/omniglot/images_background/Armenian/character01/0027_02.png', './data/omniglot/images_background/Armenian/character01/0027_08.png', './data/omniglot/images_background/Armenian/character01/0027_05.png', './data/omniglot/images_background/Armenian/character01/0027_06.png', './data/omniglot/images_background/Armenian/character01/0027_04.png', './data/omniglot/images_background/Armenian/character01/0027_10.png', './data/omniglot/images_background/Armenian/character01/0027_12.png']\n"
     ]
    }
   ],
   "source": [
    "print(name_data_dict['0027']['train'])"
   ]
  },
  {
   "cell_type": "code",
   "execution_count": null,
   "metadata": {},
   "outputs": [],
   "source": []
  }
 ],
 "metadata": {
  "kernelspec": {
   "display_name": "Python 3",
   "language": "python",
   "name": "python3"
  },
  "language_info": {
   "codemirror_mode": {
    "name": "ipython",
    "version": 3
   },
   "file_extension": ".py",
   "mimetype": "text/x-python",
   "name": "python",
   "nbconvert_exporter": "python",
   "pygments_lexer": "ipython3",
   "version": "3.6.5"
  }
 },
 "nbformat": 4,
 "nbformat_minor": 2
}
